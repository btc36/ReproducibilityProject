{
 "cells": [
  {
   "cell_type": "code",
   "execution_count": 1,
   "metadata": {},
   "outputs": [
    {
     "name": "stderr",
     "output_type": "stream",
     "text": [
      "Warning message:\n",
      "“S3 methods ‘[.labelled’, ‘as.data.frame.labelled’, ‘as_factor.data.frame’, ‘as_factor.labelled’, ‘is.na.labelled_spss’, ‘print.labelled’, ‘print.labelled_spss’, ‘type_sum.labelled’, ‘zap_formats.data.frame’, ‘zap_formats.default’, ‘zap_labels.data.frame’, ‘zap_labels.default’, ‘zap_labels.labelled’, ‘zap_labels.labelled_spss’, ‘zap_missing.data.frame’, ‘zap_missing.default’, ‘zap_missing.labelled’, ‘zap_missing.labelled_spss’, ‘zap_widths.data.frame’, ‘zap_widths.default’ were declared in NAMESPACE but not found”"
     ]
    },
    {
     "ename": "ERROR",
     "evalue": "Error: package or namespace load failed for ‘haven’ in library.dynam(lib, package, package.lib):\n shared object ‘haven.so’ not found\n",
     "output_type": "error",
     "traceback": [
      "Error: package or namespace load failed for ‘haven’ in library.dynam(lib, package, package.lib):\n shared object ‘haven.so’ not found\nTraceback:\n",
      "1. library(\"haven\")",
      "2. tryCatch({\n .     attr(package, \"LibPath\") <- which.lib.loc\n .     ns <- loadNamespace(package, lib.loc)\n .     env <- attachNamespace(ns, pos = pos, deps)\n . }, error = function(e) {\n .     P <- if (!is.null(cc <- conditionCall(e))) \n .         paste(\" in\", deparse(cc)[1L])\n .     else \"\"\n .     msg <- gettextf(\"package or namespace load failed for %s%s:\\n %s\", \n .         sQuote(package), P, conditionMessage(e))\n .     if (logical.return) \n .         message(paste(\"Error:\", msg), domain = NA)\n .     else stop(msg, call. = FALSE, domain = NA)\n . })",
      "3. tryCatchList(expr, classes, parentenv, handlers)",
      "4. tryCatchOne(expr, names, parentenv, handlers[[1L]])",
      "5. value[[3L]](cond)",
      "6. stop(msg, call. = FALSE, domain = NA)"
     ]
    }
   ],
   "source": [
    "library(\"foreign\")\n",
    "library(\"tidyverse\")\n",
    "library(\"reshape2\")"
   ]
  },
  {
   "cell_type": "code",
   "execution_count": null,
   "metadata": {},
   "outputs": [],
   "source": [
    "data = read.spss(\"https://osf.io/5ze9k/download\",to.data.frame=TRUE)\n",
    "noseTwNosev = data$NoseVideo_NoseTouching\n",
    "hairTwNosev = data$NoseVideo_HairTouching\n",
    "noseTwHairv = data$HairVideo_NoseTouching\n",
    "hairTwHairv = data$HairVideo_HairTouching\n",
    "meanNWH = mean(noseTwHairv)\n",
    "meanNWN = mean(noseTwNosev)\n",
    "meanHWH = mean(hairTwHairv)\n",
    "meanHWN = mean(hairTwNosev)\n",
    "\n",
    "getSE = function(values){\n",
    "  n = length(values)\n",
    "  st_dev = sd(values)\n",
    "  SE = st_dev/sqrt(n)\n",
    "  return(SE)\n",
    "}\n",
    "\n",
    "getConfIntvl = function(values){\n",
    "  n = length(values)\n",
    "  mn = mean(values)\n",
    "  SE = getSE(values)\n",
    "  print(\"SE\")\n",
    "  df = n-1\n",
    "  #print(\"DF IS\")\n",
    "  #print(df)\n",
    "  t = abs(qt(.15,df))\n",
    "  lower = mn -(t*SE)\n",
    "  upper = mn + (t*SE)\n",
    "  return(c(lower,upper))\n",
    "}\n",
    "\n",
    "NWHConf = getConfIntvl(noseTwHairv)\n",
    "print(NWHConf)\n",
    "NWNConf = getConfIntvl(noseTwNosev)\n",
    "print(NWNConf)\n",
    "HWHConf = getConfIntvl(hairTwHairv)\n",
    "print(HWHConf)\n",
    "HWNConf = getConfIntvl(hairTwNosev)\n",
    "print(HWNConf)\n",
    "\n",
    "data = tribble(\n",
    "  ~action, ~touched, ~video, ~lower, ~upper,\n",
    "  meanNWH, \"Nose Touching\", \"Hair Video\",NWHConf[1],NWHConf[2],\n",
    "  meanHWH, \"Hair Touching\", \"Hair Video\",HWHConf[1],HWHConf[2],\n",
    "  meanNWN, \"Nose Touching\", \"Nose Video\",NWNConf[1],NWNConf[2],\n",
    "  meanHWN, \"Hair Touching\", \"Nose Video\",HWNConf[1],HWNConf[2]\n",
    ")\n",
    "conf = tribble(\n",
    "  ~video, \n",
    "   \"Nose Touching\", NWHConf[1],NWHConf[2],\n",
    "  \"Hair Touching\", HWHConf[1],HWHConf[2],\n",
    "  \"Nose Touching\", NWNConf[1],NWNConf[2],\n",
    "  \"Hair Touching\", HWNConf[1],HWNConf[2]\n",
    ")\n",
    "scaleFUN <- function(x) sprintf(\"%.2f\", x)\n",
    "print(data)\n",
    "data$touched = factor(data$touched)\n",
    "data$touched = factor(data$touched, levels = rev(levels(data$touched)))\n",
    "gg = melt(data,id =2:3)\n",
    "ggplot(data,aes(x=video,y=action,fill=touched)) +\n",
    "  geom_bar(width = .8, stat = \"identity\",position = \"dodge\")+\n",
    "  geom_errorbar(aes(ymin=lower, ymax=upper ), size = 1, width = .1, position = position_dodge(width = .8),color = \"black\") +\n",
    "  ylab(\"Amount of Performed Action\\n\")+\n",
    "  xlab(\"\")+\n",
    "  theme_set(theme_gray(base_size = 20))+\n",
    "  theme(axis.ticks.x = element_blank(),legend.title = element_blank(),panel.background = element_blank(),axis.line = element_line(colour = \"black\"))+\n",
    "  scale_fill_manual(\"legend\", values = c(\"Nose Touching\" = \"light grey\", \"Hair Touching\" = \"dark grey\"))+\n",
    "  scale_x_discrete(limits = rev(levels(factor(gg$video))))+\n",
    "  scale_y_continuous(expand = c(0,0),labels =scaleFUN, breaks = c(0:8) )"
   ]
  }
 ],
 "metadata": {
  "kernelspec": {
   "display_name": "R",
   "language": "R",
   "name": "ir"
  },
  "language_info": {
   "codemirror_mode": "r",
   "file_extension": ".r",
   "mimetype": "text/x-r-source",
   "name": "R",
   "pygments_lexer": "r",
   "version": "3.4.4"
  }
 },
 "nbformat": 4,
 "nbformat_minor": 2
}
